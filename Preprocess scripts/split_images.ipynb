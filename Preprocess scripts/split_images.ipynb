{
 "cells": [
  {
   "cell_type": "code",
   "execution_count": 1,
   "metadata": {},
   "outputs": [],
   "source": [
    "import os\n",
    "import numpy as np\n",
    "from skimage import io\n",
    "from tifffile import imwrite"
   ]
  },
  {
   "cell_type": "markdown",
   "metadata": {},
   "source": [
    "## h13_10873"
   ]
  },
  {
   "cell_type": "code",
   "execution_count": 2,
   "metadata": {},
   "outputs": [
    {
     "name": "stdout",
     "output_type": "stream",
     "text": [
      "(6, 8528, 10134)\n"
     ]
    }
   ],
   "source": [
    "path = \"/home/carol/NaroNet-main/Datasets/D3/h13_10873.tif\"\n",
    "cr_img = io.imread(path)\n",
    "print(cr_img.shape)"
   ]
  },
  {
   "cell_type": "code",
   "execution_count": 5,
   "metadata": {},
   "outputs": [],
   "source": [
    "# Tile 1\n",
    "tile1_upper_left = (0, 4400)\n",
    "tile1_bottom_right = (3300, 7300)\n",
    "tile1 = cr_img[:, tile1_upper_left[1]:tile1_bottom_right[1], tile1_upper_left[0]:tile1_bottom_right[0]]\n",
    "\n",
    "# Tile 2\n",
    "tile2_upper_left = (3300, 500)\n",
    "tile2_bottom_right = (7900, 8050)\n",
    "tile2 = cr_img[:, tile2_upper_left[1]:tile2_bottom_right[1], tile2_upper_left[0]:tile2_bottom_right[0]]\n",
    "\n",
    "# Tile 3\n",
    "tile3_upper_left = (7950, 2050)\n",
    "tile3_bottom_right = (9550, 3950)\n",
    "tile3 = cr_img[:, tile3_upper_left[1]:tile3_bottom_right[1], tile3_upper_left[0]:tile3_bottom_right[0]]"
   ]
  },
  {
   "cell_type": "code",
   "execution_count": 6,
   "metadata": {},
   "outputs": [
    {
     "name": "stdout",
     "output_type": "stream",
     "text": [
      "(6, 2900, 3300)\n",
      "(6, 7550, 4600)\n",
      "(6, 1900, 1600)\n"
     ]
    }
   ],
   "source": [
    "print(tile1.shape)\n",
    "print(tile2.shape)\n",
    "print(tile3.shape)"
   ]
  },
  {
   "cell_type": "code",
   "execution_count": 9,
   "metadata": {},
   "outputs": [],
   "source": [
    "imwrite(\"h13_10873_tl1.tif\", tile1)\n",
    "imwrite(\"h13_10873_tl2.tif\", tile2)\n",
    "imwrite(\"h13_10873_tl3.tif\", tile3)"
   ]
  },
  {
   "cell_type": "markdown",
   "metadata": {},
   "source": [
    "## h14_28759"
   ]
  },
  {
   "cell_type": "code",
   "execution_count": 10,
   "metadata": {},
   "outputs": [],
   "source": [
    "path = \"/home/carol/NaroNet-main/Datasets/D3/h14_28759.tif\"\n",
    "cr_img = io.imread(path)"
   ]
  },
  {
   "cell_type": "code",
   "execution_count": 11,
   "metadata": {},
   "outputs": [],
   "source": [
    "# Tile 1\n",
    "tile1_upper_left = (200,750)\n",
    "tile1_bottom_right = (4300, 3600)\n",
    "tile1 = cr_img[:, tile1_upper_left[1]:tile1_bottom_right[1], tile1_upper_left[0]:tile1_bottom_right[0]]\n",
    "\n",
    "# Tile 2\n",
    "tile2_upper_left = (3654, 2210)\n",
    "tile2_bottom_right = (9700, 7500)\n",
    "tile2 = cr_img[:, tile2_upper_left[1]:tile2_bottom_right[1], tile2_upper_left[0]:tile2_bottom_right[0]]"
   ]
  },
  {
   "cell_type": "code",
   "execution_count": 12,
   "metadata": {},
   "outputs": [],
   "source": [
    "imwrite(\"h14_28759_tl1.tif\", tile1)\n",
    "imwrite(\"h14_28759_tl2.tif\", tile2)"
   ]
  },
  {
   "cell_type": "markdown",
   "metadata": {},
   "source": [
    "## h16_7700"
   ]
  },
  {
   "cell_type": "code",
   "execution_count": 14,
   "metadata": {},
   "outputs": [
    {
     "name": "stdout",
     "output_type": "stream",
     "text": [
      "(6, 6657, 10135)\n"
     ]
    }
   ],
   "source": [
    "path = \"/home/carol/NaroNet-main/Datasets/D3/h16_7700.tif\"\n",
    "cr_img = io.imread(path)"
   ]
  },
  {
   "cell_type": "code",
   "execution_count": 15,
   "metadata": {},
   "outputs": [],
   "source": [
    "# Define the split point\n",
    "split_point = 3080\n",
    "\n",
    "# Tile 1 (from top to the 3080th pixel)\n",
    "tile1 = cr_img[:, :split_point, :]\n",
    "\n",
    "# Tile 2 (from the 3080th pixel to the bottom)\n",
    "tile2 = cr_img[:, split_point:, :]\n"
   ]
  },
  {
   "cell_type": "code",
   "execution_count": 16,
   "metadata": {},
   "outputs": [],
   "source": [
    "imwrite(\"h16_7700_tl1.tif\", tile1)\n",
    "imwrite(\"h16_7700_tl2.tif\", tile2)"
   ]
  },
  {
   "cell_type": "markdown",
   "metadata": {},
   "source": [
    "## h16_9373"
   ]
  },
  {
   "cell_type": "code",
   "execution_count": 17,
   "metadata": {},
   "outputs": [],
   "source": [
    "path = \"/home/carol/NaroNet-main/Datasets/D3/h16_9373.tif\"\n",
    "cr_img = io.imread(path)"
   ]
  },
  {
   "cell_type": "code",
   "execution_count": 18,
   "metadata": {},
   "outputs": [],
   "source": [
    "# Define the split point\n",
    "split_point = 4500\n",
    "\n",
    "# Tile 1 (from top to the 3080th pixel)\n",
    "tile1 = cr_img[:, :split_point, :]\n",
    "\n",
    "# Tile 2 (from the 3080th pixel to the bottom)\n",
    "tile2 = cr_img[:, split_point:, :]"
   ]
  },
  {
   "cell_type": "code",
   "execution_count": 19,
   "metadata": {},
   "outputs": [],
   "source": [
    "imwrite(\"h16_9373_tl1.tif\", tile1)\n",
    "imwrite(\"h16_9373_tl2.tif\", tile2)"
   ]
  },
  {
   "cell_type": "markdown",
   "metadata": {},
   "source": [
    "## h16_16787"
   ]
  },
  {
   "cell_type": "code",
   "execution_count": 20,
   "metadata": {},
   "outputs": [],
   "source": [
    "path = \"/home/carol/NaroNet-main/Datasets/D3/h16_16787.tif\"\n",
    "cr_img = io.imread(path)"
   ]
  },
  {
   "cell_type": "code",
   "execution_count": 21,
   "metadata": {},
   "outputs": [],
   "source": [
    "\n",
    "# Define the split point\n",
    "split_point_vertical = 4107\n",
    "\n",
    "# Tile 1 (from left to the 4107th pixel)\n",
    "tile1 = cr_img[:, :, :split_point_vertical]\n",
    "\n",
    "# Tile 2 (from the 4107th pixel to the right)\n",
    "tile2 = cr_img[:, :, split_point_vertical:]"
   ]
  },
  {
   "cell_type": "code",
   "execution_count": 22,
   "metadata": {},
   "outputs": [],
   "source": [
    "imwrite(\"h16_16787_tl1.tif\", tile1)\n",
    "imwrite(\"h16_16787_tl2.tif\", tile2)"
   ]
  },
  {
   "cell_type": "markdown",
   "metadata": {},
   "source": [
    "## h16_12101"
   ]
  },
  {
   "cell_type": "code",
   "execution_count": 23,
   "metadata": {},
   "outputs": [],
   "source": [
    "path = \"/home/carol/NaroNet-main/Datasets/D3/h16_12101.tif\"\n",
    "cr_img = io.imread(path)"
   ]
  },
  {
   "cell_type": "code",
   "execution_count": 24,
   "metadata": {},
   "outputs": [],
   "source": [
    "tile1_upper_left = (3666, 0)\n",
    "tile1_bottom_right = (7000, 10330)\n",
    "tile1 = cr_img[:, tile1_upper_left[1]:tile1_bottom_right[1], tile1_upper_left[0]:tile1_bottom_right[0]]\n",
    "\n",
    "# Tile 2 (using the bottom left and upper right corners to define the bounds)\n",
    "tile2_bottom_left = (0, 15300) \n",
    "tile2_upper_right = (4820, 10467)\n",
    "tile2 = cr_img[:, tile2_upper_right[1]:tile2_bottom_left[1], tile2_bottom_left[0]:tile2_upper_right[0]]"
   ]
  },
  {
   "cell_type": "code",
   "execution_count": 25,
   "metadata": {},
   "outputs": [],
   "source": [
    "imwrite(\"h16_12101_tl1.tif\", tile1)\n",
    "imwrite(\"h16_12101_tl2.tif\", tile2)"
   ]
  },
  {
   "cell_type": "markdown",
   "metadata": {},
   "source": [
    "## h16_15119"
   ]
  },
  {
   "cell_type": "code",
   "execution_count": 26,
   "metadata": {},
   "outputs": [],
   "source": [
    "path = \"/home/carol/NaroNet-main/Datasets/D3/h16_15119.tif\"\n",
    "cr_img = io.imread(path)"
   ]
  },
  {
   "cell_type": "code",
   "execution_count": 27,
   "metadata": {},
   "outputs": [],
   "source": [
    "split_point = 6500\n",
    "\n",
    "# Tile 1 (from top to the 3080th pixel)\n",
    "tile1 = cr_img[:, :split_point, :]\n",
    "\n",
    "# Tile 2 (from the 3080th pixel to the bottom)\n",
    "tile2 = cr_img[:, split_point:, :]"
   ]
  },
  {
   "cell_type": "code",
   "execution_count": 28,
   "metadata": {},
   "outputs": [],
   "source": [
    "imwrite(\"h16_15119_tl1.tif\", tile1)\n",
    "imwrite(\"h16_15119_tl2.tif\", tile2)"
   ]
  },
  {
   "cell_type": "markdown",
   "metadata": {},
   "source": [
    "## h17_6226 and h17_6794"
   ]
  },
  {
   "cell_type": "code",
   "execution_count": 34,
   "metadata": {},
   "outputs": [],
   "source": [
    "# #provide the value for cuts in ascending order\n",
    "# def cut_horizontally(image, cut1, cut2):\n",
    "#     \"\"\"\n",
    "#     Cut the image array into three tiles using two horizontal cuts.\n",
    "\n",
    "#     Parameters:\n",
    "#     - image (numpy array): The image array with shape (channels, height, width).\n",
    "#     - cut1 (int): The y-coordinate of the first cut.\n",
    "#     - cut2 (int): The y-coordinate of the second cut.\n",
    "\n",
    "#     Returns:\n",
    "#     - tuple of numpy arrays: The three resulting tiles.\n",
    "#     \"\"\"\n",
    "\n",
    "#     tile1 = image[:, :cut1, :]\n",
    "#     tile2 = image[:, cut1:cut2, :]\n",
    "#     tile3 = image[:, cut2: , :]\n",
    "\n",
    "#     return tile1, tile2, tile3\n",
    "\n",
    "#provide the value for cuts in ascending order\n",
    "def cut_horizontally(image, cut1, cut2, cut3):\n",
    "    \"\"\"\n",
    "    Cut the image array into three tiles using two horizontal cuts.\n",
    "\n",
    "    Parameters:\n",
    "    - image (numpy array): The image array with shape (channels, height, width).\n",
    "    - cut1 (int): The y-coordinate of the first cut.\n",
    "    - cut2 (int): The y-coordinate of the second cut.\n",
    "\n",
    "    Returns:\n",
    "    - tuple of numpy arrays: The three resulting tiles.\n",
    "    \"\"\"\n",
    "\n",
    "    tile1 = image[:, :cut1, :]\n",
    "    tile2 = image[:, cut1:cut2, :]\n",
    "    tile3 = image[:, cut2:cut3, :]\n",
    "    tile4 = image[:, cut3: , :]\n",
    "\n",
    "    return tile1, tile2, tile3, tile4"
   ]
  },
  {
   "cell_type": "code",
   "execution_count": 31,
   "metadata": {},
   "outputs": [],
   "source": [
    "path = \"/home/carol/NaroNet-main/Datasets/D3/h17_6794.tif\"\n",
    "cr_img = io.imread(path)\n",
    "\n",
    "tile1, tile2, tile3 = cut_horizontally(cr_img, 3336, 8300)\n",
    "\n",
    "imwrite(\"h17_6794_tl1.tif\", tile1)\n",
    "imwrite(\"h17_6794_tl2.tif\", tile2)\n",
    "imwrite(\"h17_6794_tl3.tif\", tile3)"
   ]
  },
  {
   "cell_type": "code",
   "execution_count": 32,
   "metadata": {},
   "outputs": [],
   "source": [
    "path1 = \"/home/carol/NaroNet-main/Datasets/D3/h17_6794_tl1.tif\"\n",
    "cr_img1 = io.imread(path1)\n",
    "path2 = \"/home/carol/NaroNet-main/Datasets/D3/h17_6794_tl2.tif\"\n",
    "cr_img2 = io.imread(path2)\n",
    "cr_img1 = cr_img1[:, :, :6400]\n",
    "cr_img2 = cr_img2[:, :, :6400]\n",
    "imwrite(\"h17_6794_tl1_keep.tif\", cr_img1)\n",
    "imwrite(\"h17_6794_tl2_keep.tif\", cr_img2)"
   ]
  },
  {
   "cell_type": "code",
   "execution_count": 33,
   "metadata": {},
   "outputs": [],
   "source": [
    "path3 = \"/home/carol/NaroNet-main/Datasets/D3/h17_6794_tl3.tif\"\n",
    "cr_img3 = io.imread(path3)\n",
    "cr_img3 = cr_img3[:, :, 2300:]\n",
    "imwrite(\"h17_6794_tl3_keep.tif\", cr_img3)"
   ]
  },
  {
   "cell_type": "markdown",
   "metadata": {},
   "source": [
    "!!!cut left and right"
   ]
  },
  {
   "cell_type": "code",
   "execution_count": 35,
   "metadata": {},
   "outputs": [],
   "source": [
    "path = \"/home/carol/NaroNet-main/Datasets/D3/h17_6226.tif\"\n",
    "cr_img = io.imread(path)\n",
    "\n",
    "tile1, tile2, tile3, tile4 = cut_horizontally(cr_img, 6578, 13156, 19734)\n",
    "\n",
    "imwrite(\"h17_6226_tl1.tif\", tile1)\n",
    "imwrite(\"h17_6226_tl2.tif\", tile2)\n",
    "imwrite(\"h17_6226_tl3.tif\", tile3)\n",
    "imwrite(\"h17_6226_tl4.tif\", tile4)"
   ]
  },
  {
   "cell_type": "markdown",
   "metadata": {},
   "source": [
    "## h16_28421"
   ]
  },
  {
   "cell_type": "code",
   "execution_count": 37,
   "metadata": {},
   "outputs": [
    {
     "name": "stdout",
     "output_type": "stream",
     "text": [
      "(6, 16954, 7635)\n"
     ]
    }
   ],
   "source": [
    "path = \"/home/carol/NaroNet-main/Datasets/D3/h16_28421.tif\"\n",
    "cr_img = io.imread(path)\n",
    "print(cr_img.shape)"
   ]
  },
  {
   "cell_type": "code",
   "execution_count": 38,
   "metadata": {},
   "outputs": [],
   "source": [
    "tile1, tile2, tile3, tile4 = cut_horizontally(cr_img, 4239 , 8477, 12716)\n",
    "\n",
    "imwrite(\"h16_28421_tl1.tif\", tile1)\n",
    "imwrite(\"h16_28421_tl2.tif\", tile2)\n",
    "imwrite(\"h16_28421_tl3.tif\", tile3)\n",
    "imwrite(\"h16_28421_tl4.tif\", tile4)"
   ]
  },
  {
   "cell_type": "markdown",
   "metadata": {},
   "source": [
    "## h16_15767"
   ]
  },
  {
   "cell_type": "code",
   "execution_count": 40,
   "metadata": {},
   "outputs": [
    {
     "name": "stdout",
     "output_type": "stream",
     "text": [
      "(6, 14144, 13882)\n"
     ]
    }
   ],
   "source": [
    "path = \"/home/carol/NaroNet-main/Datasets/D3/h16_15767.tif\"\n",
    "cr_img = io.imread(path)\n",
    "print(cr_img.shape)"
   ]
  },
  {
   "cell_type": "code",
   "execution_count": 41,
   "metadata": {},
   "outputs": [],
   "source": [
    "tile1_upper_left = (412, 979)\n",
    "tile1_bottom_right = (6116, 7024)\n",
    "tile1 = cr_img[:, tile1_upper_left[1]:tile1_bottom_right[1], tile1_upper_left[0]:tile1_bottom_right[0]]\n",
    "\n",
    "tile2_upper_left = (600, 7000)\n",
    "tile2_bottom_right = (5282, 13638)\n",
    "tile2 = cr_img[:, tile2_upper_left[1]:tile2_bottom_right[1], tile2_upper_left[0]:tile2_bottom_right[0]]\n",
    "\n",
    "tile3_upper_left = (7727, 240)\n",
    "tile3_bottom_right = (13469, 6797)\n",
    "tile3 = cr_img[:, tile3_upper_left[1]:tile3_bottom_right[1], tile3_upper_left[0]:tile3_bottom_right[0]]"
   ]
  },
  {
   "cell_type": "code",
   "execution_count": 42,
   "metadata": {},
   "outputs": [],
   "source": [
    "imwrite(\"h16_15767_tl1.tif\", tile1)\n",
    "imwrite(\"h16_15767_tl2.tif\", tile2)\n",
    "imwrite(\"h16_15767_tl3.tif\", tile3)"
   ]
  },
  {
   "cell_type": "markdown",
   "metadata": {},
   "source": [
    "## h16_19144"
   ]
  },
  {
   "cell_type": "code",
   "execution_count": 43,
   "metadata": {},
   "outputs": [
    {
     "name": "stdout",
     "output_type": "stream",
     "text": [
      "(6, 45033, 15131)\n"
     ]
    }
   ],
   "source": [
    "path = \"/home/carol/NaroNet-main/Datasets/D3/h16_19144.tif\"\n",
    "cr_img = io.imread(path)\n",
    "print(cr_img.shape)"
   ]
  },
  {
   "cell_type": "code",
   "execution_count": 44,
   "metadata": {},
   "outputs": [],
   "source": [
    "def extract_tile(image, upper_left=None, upper_right=None, bottom_left=None, bottom_right=None):\n",
    "    \"\"\"\n",
    "    Extract a tile based on given corner coordinates.\n",
    "    \n",
    "    Parameters:\n",
    "    - image (numpy array): The image array with shape (channels, height, width).\n",
    "    - upper_left (tuple): (x, y) coordinates of the upper left corner.\n",
    "    - upper_right (tuple): (x, y) coordinates of the upper right corner.\n",
    "    - bottom_left (tuple): (x, y) coordinates of the bottom left corner.\n",
    "    - bottom_right (tuple): (x, y) coordinates of the bottom right corner.\n",
    "\n",
    "    Returns:\n",
    "    - numpy array: The extracted tile.\n",
    "    \"\"\"\n",
    "    \n",
    "    if upper_left is None:\n",
    "        upper_left = (bottom_left[0], upper_right[1])\n",
    "    if bottom_right is None:\n",
    "        bottom_right = (upper_right[0], bottom_left[1])\n",
    "    if upper_right is None:\n",
    "        upper_right = (bottom_right[0], upper_left[1])\n",
    "    if bottom_left is None:\n",
    "        bottom_left = (upper_left[0], bottom_right[1])\n",
    "    \n",
    "    return image[:, upper_left[1]:bottom_right[1], upper_left[0]:bottom_right[0]]\n",
    "\n",
    "# Assuming 'current_image' is loaded\n",
    "\n",
    "# Tile 1 extraction\n",
    "tile1 = extract_tile(cr_img, upper_left=(1500, 25074), bottom_right=(5352, 35675))\n",
    "\n",
    "# Tile 2 extraction\n",
    "tile2 = extract_tile(cr_img, upper_left=(1500, 35675), bottom_right=(4700, 43307))\n",
    "\n",
    "# Tile 3 extraction\n",
    "tile3 = extract_tile(cr_img, upper_right=(6823, 17032), bottom_left=(3576, 23749))\n",
    "\n",
    "# Tile 4 extraction\n",
    "tile4 = extract_tile(cr_img, upper_right=(14508, 200), bottom_left=(8492, 8510))\n",
    "\n",
    "# Tile 5 extraction\n",
    "tile5 = extract_tile(cr_img, upper_right=(11191, 8510), bottom_left=(4186, 17032))\n"
   ]
  },
  {
   "cell_type": "code",
   "execution_count": 45,
   "metadata": {},
   "outputs": [],
   "source": [
    "imwrite(\"h16_19144_tl1.tif\", tile1)\n",
    "imwrite(\"h16_19144_tl2.tif\", tile2)\n",
    "imwrite(\"h16_19144_tl3.tif\", tile3)\n",
    "imwrite(\"h16_19144_tl4.tif\", tile4)\n",
    "imwrite(\"h16_19144_tl5.tif\", tile5)"
   ]
  },
  {
   "cell_type": "code",
   "execution_count": 2,
   "metadata": {},
   "outputs": [
    {
     "name": "stdout",
     "output_type": "stream",
     "text": [
      "(6, 8310, 6016)\n",
      "(6, 8310, 6016)\n"
     ]
    }
   ],
   "source": [
    "path = \"/home/carol/NaroNet-main/NaroNet-main/Lung_cancer/Raw_Data/Images/h16_19144_tl4.tif\"\n",
    "cr_img = io.imread(path)\n",
    "path2 = \"/home/carol/NaroNet-main/NaroNet-main/Lung_cancer/Raw_Data/Images/h16_19144_tl4.tif\"\n",
    "cr_img2 = io.imread(path2)\n",
    "print(cr_img.shape)\n",
    "print(cr_img2.shape)"
   ]
  },
  {
   "cell_type": "code",
   "execution_count": 3,
   "metadata": {},
   "outputs": [
    {
     "name": "stdout",
     "output_type": "stream",
     "text": [
      "(6, 4155, 6016)\n",
      "(6, 4155, 6016)\n"
     ]
    }
   ],
   "source": [
    "tile11 = cr_img[:, :4155, :]\n",
    "tile12 = cr_img[:, 4155:, :]\n",
    "tile21 = cr_img2[:, :4155, :]\n",
    "tile22 = cr_img2[:, 4155:, :]\n",
    "print(tile11.shape)\n",
    "print(tile12.shape)"
   ]
  },
  {
   "cell_type": "code",
   "execution_count": null,
   "metadata": {},
   "outputs": [],
   "source": [
    "imwrite(\"h16_19144_tl4.tif\", tile11)\n",
    "imwrite(\"h16_19144_tl5.tif\", tile12)\n",
    "imwrite(\"h16_19144_tl6.tif\", tile22)\n",
    "imwrite(\"h16_19144_tl7.tif\", tile22)"
   ]
  },
  {
   "cell_type": "markdown",
   "metadata": {},
   "source": [
    "## h16_11096"
   ]
  },
  {
   "cell_type": "code",
   "execution_count": 51,
   "metadata": {},
   "outputs": [],
   "source": [
    "path = \"/home/carol/NaroNet-main/Datasets/D3/h16_11096.tif\"\n",
    "cr_img = io.imread(path)"
   ]
  },
  {
   "cell_type": "code",
   "execution_count": 52,
   "metadata": {},
   "outputs": [
    {
     "name": "stdout",
     "output_type": "stream",
     "text": [
      "(6, 15080, 22626)\n"
     ]
    }
   ],
   "source": [
    "print(cr_img.shape)"
   ]
  },
  {
   "cell_type": "code",
   "execution_count": 56,
   "metadata": {},
   "outputs": [],
   "source": [
    "\n",
    "# tile1 = extract_tile(cr_img, upper_left=(245, 1123), bottom_right=(7865, 4364))\n",
    "\n",
    "# # Tile 2 extraction\n",
    "# tile2 = extract_tile(cr_img, upper_left=(7913, 217), bottom_right=(12000, 7233))\n",
    "\n",
    "# # Tile 3 extraction\n",
    "tile3 = extract_tile(cr_img, upper_left=(15363, 1446), bottom_right=(22621, 5979))\n",
    "\n",
    "# # Tile 4 extraction\n",
    "# tile4 = extract_tile(cr_img, upper_left=(2858, 6259), bottom_right=(9971, 12256))\n",
    "\n",
    "# # Tile 5 extraction\n",
    "# tile5 = extract_tile(cr_img, upper_left=(6445, 12075), bottom_right=(9127, 15029))\n",
    "# print(tile5.shape)\n",
    "\n",
    "# imwrite(\"h16_11096_tl1.tif\", tile1)\n",
    "# imwrite(\"h16_11096_tl2.tif\", tile2)\n",
    "imwrite(\"h16_11096_tl3.tif\", tile3)\n",
    "# imwrite(\"h16_11096_tl4.tif\", tile4)\n",
    "#imwrite(\"h16_11096_tl5.tif\", tile5)"
   ]
  },
  {
   "cell_type": "code",
   "execution_count": 49,
   "metadata": {},
   "outputs": [
    {
     "name": "stdout",
     "output_type": "stream",
     "text": [
      "(6, 2954, 0)\n"
     ]
    }
   ],
   "source": []
  }
 ],
 "metadata": {
  "kernelspec": {
   "display_name": "anotherone",
   "language": "python",
   "name": "python3"
  },
  "language_info": {
   "codemirror_mode": {
    "name": "ipython",
    "version": 3
   },
   "file_extension": ".py",
   "mimetype": "text/x-python",
   "name": "python",
   "nbconvert_exporter": "python",
   "pygments_lexer": "ipython3",
   "version": "3.8.0"
  },
  "orig_nbformat": 4
 },
 "nbformat": 4,
 "nbformat_minor": 2
}
