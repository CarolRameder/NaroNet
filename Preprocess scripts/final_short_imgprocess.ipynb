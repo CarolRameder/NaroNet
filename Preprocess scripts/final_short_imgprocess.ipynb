{
 "cells": [
  {
   "cell_type": "markdown",
   "metadata": {},
   "source": [
    "Preprocess steps: .czi-> separate channels .tif -> merged channels .tif\n",
    "\n",
    "This file does the 2nd step.\n",
    "\n",
    "Highlighted comment shows how the script should be used\n",
    "\n",
    "It was copied in each folder consisting the channels of the image "
   ]
  },
  {
   "cell_type": "code",
   "execution_count": null,
   "metadata": {},
   "outputs": [],
   "source": [
    "from __future__ import print_function # Python 2/3 compatibility\n",
    "import os\n",
    "import glob\n",
    "import numpy as np\n",
    "from PIL import Image\n",
    "import tifffile\n",
    "from tifffile import imwrite\n",
    "import numpy\n",
    "\n",
    "def PIL2array(img):\n",
    "    \"\"\" Convert a PIL/Pillow image to a numpy array \"\"\"\n",
    "    return numpy.array(img.getdata(),\n",
    "        numpy.uint8).reshape(img.size[1], img.size[0], 3)\n",
    "\n",
    "FRAMES = [] # Empty list of frames\n",
    "FIRST_SIZE = None # I am going to say that the first file is the right size\n",
    "OUT_NAME = \"test.tiff\" # Name to save to\n",
    "filelist = glob.glob(\"*.tif\") # For this test I am just using the images in the current directory in the order they are--------------------------------------\n",
    "\n",
    "# Get the images into an array\n",
    "for fn in filelist:  # For each name in the list\n",
    "    img = Image.open(fn) # Read the image\n",
    "    if FIRST_SIZE is None:  # Don't have a size\n",
    "        FIRST_SIZE = img.size  # So use this one\n",
    "    if img.size == FIRST_SIZE: # Check the current image size if it is OK we can use it\n",
    "        print (\"Adding:\", fn)  # Show some progress\n",
    "        FRAMES.append(PIL2array(img))   # Add it to our frames list\n",
    "    else:\n",
    "        print (\"Discard:\", fn, img.size, \"<>\", FIRST_SIZE) # You could resize and append here!\n",
    "    \n",
    "#print(\"Writing\", len(FRAMES), \"frames to\", OUT_NAME)\n",
    "imwrite('test.tif', np.array(FRAMES))\n",
    "# with tifffile.TiffWriter(OUT_NAME) as tiff:\n",
    "#     for img in FRAMES:\n",
    "#         tiff.write(img) #   compress=6)\n",
    "print(\"Done\")"
   ]
  }
 ],
 "metadata": {
  "language_info": {
   "name": "python"
  },
  "orig_nbformat": 4
 },
 "nbformat": 4,
 "nbformat_minor": 2
}
