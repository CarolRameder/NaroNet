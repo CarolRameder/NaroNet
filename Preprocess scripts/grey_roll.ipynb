{
 "cells": [
  {
   "cell_type": "code",
   "execution_count": 1,
   "metadata": {},
   "outputs": [],
   "source": [
    "from __future__ import print_function # Python 2/3 compatibility\n",
    "import os\n",
    "import glob\n",
    "import numpy as np\n",
    "from PIL import Image\n",
    "import tifffile\n",
    "from tifffile import imwrite\n",
    "import numpy\n",
    "from skimage import io\n",
    "import matplotlib.pyplot as plt\n",
    "import pywt\n",
    "\n",
    "from skimage import (\n",
    "    data, restoration, util\n",
    ")\n"
   ]
  },
  {
   "cell_type": "code",
   "execution_count": 2,
   "metadata": {},
   "outputs": [],
   "source": [
    "def explore(image_data):\n",
    "    \n",
    "    print(\"Image shape:\", image_data.shape)\n",
    "\n",
    "    mean_value = np.mean(image_data)\n",
    "    std_value = np.std(image_data)\n",
    "    min_value = np.min(image_data)\n",
    "    max_value = np.max(image_data)\n",
    "\n",
    "    print(\"Mean:\", mean_value)\n",
    "    print(\"Standard Deviation:\", std_value)\n",
    "    print(\"Minimum:\", min_value)\n",
    "    print(\"Maximum:\", max_value)\n",
    "    \n",
    "def convert_to_greyscale(image, weights):\n",
    "    # Define the weights\n",
    "    weights = np.array(weights)\n",
    "    \n",
    "    # Calculate the weighted sum along the last axis (color channels)\n",
    "    greyscale_image = np.dot(image, weights)\n",
    "    \n",
    "    # Optional: Convert to desired dtype (if not 'float')\n",
    "    greyscale_image = greyscale_image.astype(np.uint8)\n",
    "    \n",
    "    return greyscale_image\n",
    "\n",
    "def get_proportions(arg_list):\n",
    "    \"\"\"\n",
    "    Get adjusted weights for grayscale conversion based on presence/absence of RGB channels.\n",
    "\n",
    "    Parameters:\n",
    "    - r, g, b: Binary values indicating presence (1) or absence (0) of the R, G, and B channels.\n",
    "\n",
    "    Returns:\n",
    "    - (Wr, Wg, Wb): Tuple containing the adjusted weights for R, G, and B channels.\n",
    "    \"\"\"\n",
    "    r = arg_list[0]\n",
    "    g = arg_list[1]\n",
    "    b = arg_list[2]\n",
    "    \n",
    "    # Original weights\n",
    "    #Wr_original, Wg_original, Wb_original = 0.299, 0.587, 0.114\n",
    "    Wr_original, Wg_original, Wb_original = 0.333, 0.333, 0.333\n",
    "    \n",
    "    # If all channels are absent, return (0, 0, 0) as special case\n",
    "    if r == g == b == 0:\n",
    "        return [0, 0, 0]\n",
    "\n",
    "    # Calculating adjusted weights while considering original proportions\n",
    "    total_original_weight = r * Wr_original + g * Wg_original + b * Wb_original\n",
    "    \n",
    "    Wr = round((Wr_original * r) / total_original_weight, 3) if total_original_weight else 0\n",
    "    Wg = round((Wg_original * g) / total_original_weight, 3) if total_original_weight else 0\n",
    "    Wb = round((Wb_original * b) / total_original_weight, 3) if total_original_weight else 0\n",
    "\n",
    "    return [Wr, Wg, Wb]\n",
    "\n",
    "def plot_result(image, background):\n",
    "    fig, ax = plt.subplots(nrows=1, ncols=3)\n",
    "\n",
    "    ax[0].imshow(image, cmap='gray')\n",
    "    ax[0].set_title('Original image')\n",
    "    ax[0].axis('off')\n",
    "\n",
    "    ax[1].imshow(background, cmap='gray')\n",
    "    ax[1].set_title('Background')\n",
    "    ax[1].axis('off')\n",
    "\n",
    "    ax[2].imshow(image - background, cmap='gray')\n",
    "    ax[2].set_title('Result')\n",
    "    ax[2].axis('off')\n",
    "\n",
    "    fig.tight_layout()\n",
    "\n",
    "def get_scaled_prop(max_values):\n",
    "    \"\"\"\n",
    "    Calculates the proportion of each channel based on the provided max_values and rounds it to 3 decimal places.\n",
    "    \n",
    "    Parameters:\n",
    "        max_values (list or tuple): A list or tuple containing the maximum values for each channel.\n",
    "        \n",
    "    Returns:\n",
    "        list: A list containing the proportion of each channel, rounded to 3 decimal places.\n",
    "    \"\"\"\n",
    "    # Ensure max_values is a list or tuple and has exactly 3 elements for the RGB channels.\n",
    "    if not (isinstance(max_values, (list, tuple)) and len(max_values) == 3):\n",
    "        raise ValueError(\"max_values must be a list or tuple with exactly 3 elements.\")\n",
    "    \n",
    "    # Calculate the sum of max_values to get the normalization factor.\n",
    "    total = sum(max_values)\n",
    "    \n",
    "    # Avoid division by zero by returning equal proportions if total is 0.\n",
    "    if total == 0:\n",
    "        return [1/3, 1/3, 1/3]\n",
    "    \n",
    "    # Calculate the proportion of each channel, round to 3 decimal places and return the results.\n",
    "    proportions = [round(val / total, 3) for val in max_values]\n",
    "    return proportions\n",
    "\n",
    "#takes input a 3D image with RGB channels\n",
    "#return a list of length 3 with the maximum value for each input channel\n",
    "#it can be easily changed to mean if required\n",
    "def getmaxes(marker):\n",
    "    maxes = []\n",
    "    for i in range(3):\n",
    "        cr_channel = marker[:, :, i]\n",
    "        maxes.append(np.max(cr_channel))\n",
    "    \n",
    "    return maxes\n"
   ]
  },
  {
   "cell_type": "code",
   "execution_count": 5,
   "metadata": {},
   "outputs": [],
   "source": [
    "#path = \"/home/carol/NaroNet-main/NaroNet-main/Endometrial_POLE/Raw_Data/Images/Endometrial_ca_17_15524_[10021,45166]_component_data.tif\"\n",
    "path2 = \"/home/carol/NaroNet-main/Datasets/Images_noconv_noroll/h17_6226.tif\"\n",
    "\n",
    "# img = Image.open(path)\n",
    "# print(np.shape(img))\n",
    "#endo = io.imread(path)\n",
    "lcan = io.imread(path2)\n",
    "\n",
    "# greysc = convert_to_greyscale(lcan)\n",
    "# coins_image = data.coins()\n",
    "# print(greysc[0].dtype)\n",
    "# print(coins_image.dtype)"
   ]
  },
  {
   "cell_type": "code",
   "execution_count": null,
   "metadata": {},
   "outputs": [],
   "source": [
    "#exploring RGb image\n",
    "path2 = \"/home/carol/NaroNet-main/Datsets/Images_noconv_noroll/h17_6226.tif\"\n",
    "lcan = io.imread(path2)\n",
    "for marker in range(6):\n",
    "    print(\"Exploring marker \"+str(marker)+\"\\n\")\n",
    "    cr_marker = lcan[marker]\n",
    "    for channel in range(3):\n",
    "        cr_channel = cr_marker[:, :, channel]\n",
    "        print(\"Exploring channel \"+str(channel)+\"\\n\")\n",
    "        explore(cr_channel)"
   ]
  },
  {
   "cell_type": "code",
   "execution_count": null,
   "metadata": {},
   "outputs": [],
   "source": [
    "#converting a whole folder D2\n",
    "current_directory = \"/home/carol/NaroNet-main/Datasets/Images_noconv_noroll\"\n",
    "name = 0\n",
    "# Iterate through all files in the directory\n",
    "for filename in os.listdir(current_directory):\n",
    "    # Create a full file path\n",
    "    cr_img = io.imread(current_directory+'/'+filename)\n",
    "    gray_markers = []\n",
    "    for marker in range(6):\n",
    "        cr_marker = cr_img[marker]\n",
    "        maxes = getmaxes(cr_marker)\n",
    "        prop = get_scaled_prop(maxes)\n",
    "        gray_marker = convert_to_greyscale(cr_marker, prop)\n",
    "        # roll_ball = gray_marker - restoration.rolling_ball(gray_marker)\n",
    "        \n",
    "        # Append filtered and converted image to our list\n",
    "        gray_markers.append(gray_marker)\n",
    "\n",
    "    # Stack all grayscale markers into a single array along a new first axis\n",
    "    final_image = np.stack(gray_markers, axis=0)\n",
    "\n",
    "    str_name = str(name)+'.tif'\n",
    "    imwrite(str_name, final_image)\n",
    "    print(\"Generated \"+str_name+\" for \"+filename)\n",
    "    \n",
    "    name = name+1"
   ]
  },
  {
   "cell_type": "code",
   "execution_count": null,
   "metadata": {},
   "outputs": [],
   "source": [
    "#converting a whole folder D1\n",
    "current_directory = \"/home/carol/NaroNet-main/Datasets/Images_noconv_noroll\"\n",
    "name = 0\n",
    "# Iterate through all files in the directory\n",
    "for filename in os.listdir(current_directory):\n",
    "    print(filename)\n",
    "    # Create a full file path\n",
    "    cr_img = io.imread(current_directory+'/'+filename)\n",
    "    gray_markers = []\n",
    "    for marker in range(6):\n",
    "        print(marker)\n",
    "        cr_marker = cr_img[marker]\n",
    "        missing_channels = [1,1,1]\n",
    "        for channel in range(3):\n",
    "            #cr_channel = cr_marker[:, :, channel]\n",
    "            print(cr_marker.shape)\n",
    "            if np.max(cr_channel) == 0:\n",
    "                missing_channels[channel] = 0\n",
    "\n",
    "        prop = get_proportions(missing_channels)\n",
    "        gray_marker = convert_to_greyscale(cr_marker, prop)\n",
    "        roll_ball = gray_marker - restoration.rolling_ball(gray_marker)\n",
    "        \n",
    "        # Append filtered and converted image to our list\n",
    "        gray_markers.append(roll_ball)\n",
    "\n",
    "    # Stack all grayscale markers into a single array along a new first axis\n",
    "    final_image = np.stack(gray_markers, axis=0)\n",
    "\n",
    "    str_name = str(name)+'.tif'\n",
    "    imwrite(str_name, final_image)\n",
    "    print(\"Generated \"+str_name+\" for \"+filename)\n",
    "    \n",
    "    name = name+1"
   ]
  },
  {
   "cell_type": "code",
   "execution_count": 6,
   "metadata": {},
   "outputs": [],
   "source": [
    "import cv2\n",
    "from cv2_rolling_ball import subtract_background_rolling_ball"
   ]
  },
  {
   "cell_type": "code",
   "execution_count": 8,
   "metadata": {},
   "outputs": [],
   "source": [
    "path = \"/home/carol/NaroNet-main/D2/h17_6226.tif\"\n",
    "lcan = io.imread(path)\n",
    "img, background = subtract_background_rolling_ball(lcan[0], 30, light_background=False,\n",
    "                                     use_paraboloid=False, do_presmooth=True)"
   ]
  },
  {
   "cell_type": "code",
   "execution_count": 11,
   "metadata": {},
   "outputs": [
    {
     "name": "stdout",
     "output_type": "stream",
     "text": [
      "(26312, 5138)\n",
      "(26312, 5138)\n"
     ]
    }
   ],
   "source": [
    "print(background.shape)\n",
    "print(lcan[0].shape)"
   ]
  },
  {
   "cell_type": "code",
   "execution_count": 3,
   "metadata": {},
   "outputs": [
    {
     "name": "stdout",
     "output_type": "stream",
     "text": [
      "(6, 15080, 22626)\n",
      "(6, 45033, 15131)\n"
     ]
    }
   ],
   "source": [
    "path1 = \"/home/carol/NaroNet-main/Datasets/D2/h16_11096.tif\"\n",
    "er1 = io.imread(path1)\n",
    "\n",
    "path2 = \"/home/carol/NaroNet-main/Datasets/D2/h16_19144.tif\"\n",
    "er2 = io.imread(path2)\n",
    "\n",
    "print(er1.shape)\n",
    "print(er2.shape)"
   ]
  },
  {
   "cell_type": "code",
   "execution_count": 5,
   "metadata": {},
   "outputs": [
    {
     "name": "stdout",
     "output_type": "stream",
     "text": [
      "Image shape: (45033, 15131)\n",
      "Mean: 4.449137606037848\n",
      "Standard Deviation: 11.890435782905497\n",
      "Minimum: 0\n",
      "Maximum: 254\n"
     ]
    }
   ],
   "source": [
    "explore(er2[1])"
   ]
  },
  {
   "cell_type": "code",
   "execution_count": 3,
   "metadata": {},
   "outputs": [
    {
     "name": "stdout",
     "output_type": "stream",
     "text": [
      "Generated 1.tif for h16_19144.tif\n",
      "Generated 2.tif for h16_28421.tif\n",
      "Generated 3.tif for h13_10873.tif\n",
      "Generated 4.tif for h17_6794.tif\n",
      "Generated 5.tif for h16_9373.tif\n",
      "Generated 6.tif for h14_28759.tif\n",
      "Generated 7.tif for h16_11096.tif\n",
      "Generated 8.tif for h16_15119.tif\n",
      "Generated 9.tif for h16_12101.tif\n",
      "Generated 10.tif for h16_15767.tif\n",
      "Generated 11.tif for h16_7700.tif\n"
     ]
    }
   ],
   "source": [
    "#converting a whole folder to D3 - greyscale to gs+ roll ball\n",
    "#GPU cannot be used for rolling_ball algorithm -> the most expensive operation\n",
    "current_directory = \"/home/carol/NaroNet-main/Datasets/D2\"\n",
    "name = 1\n",
    "# Iterate through all files in the directory\n",
    "for filename in os.listdir(current_directory):\n",
    "    cr_img = io.imread(current_directory+'/'+filename)\n",
    "    if filename == \"h17_6226.tif\" or filename == \"h16_16787.tif\":\n",
    "        continue\n",
    "    gray_markers = []\n",
    "    for marker in range(6):\n",
    "        cr_marker = cr_img[marker]\n",
    "        roll_ball = cr_marker - restoration.rolling_ball(cr_marker)\n",
    "        \n",
    "        # Append filtered and converted image to our list\n",
    "        gray_markers.append(roll_ball)\n",
    "\n",
    "    # Stack all grayscale markers into a single array along a new first axis\n",
    "    final_image = np.stack(gray_markers, axis=0)\n",
    "\n",
    "    str_name = str(name)+'.tif'\n",
    "    imwrite(str_name, final_image)\n",
    "    print(\"Generated \"+str_name+\" for \"+filename)\n",
    "    \n",
    "    name = name+1"
   ]
  },
  {
   "cell_type": "code",
   "execution_count": 6,
   "metadata": {},
   "outputs": [],
   "source": [
    "#converting a single image - D2\n",
    "gray_markers = []\n",
    "for marker in range(6):\n",
    "    cr_marker = lcan[marker]\n",
    "    missing_channels = [1,1,1]\n",
    "\n",
    "    #present channel, no max/mean\n",
    "    # for channel in range(3):\n",
    "    #     cr_channel = cr_marker[:, :, channel]\n",
    "    #     if np.max(cr_channel) == 0:\n",
    "    #         missing_channels[channel] = 0\n",
    "\n",
    "    maxes = getmaxes(cr_marker)\n",
    "    prop = get_scaled_prop(maxes)\n",
    "    gray_marker = convert_to_greyscale(cr_marker, prop)\n",
    "    #roll_ball = gray_marker - restoration.rolling_ball(gray_marker)\n",
    "    \n",
    "    # Append the gray_marker to our list\n",
    "    gray_markers.append(gray_marker)\n",
    "\n",
    "# Stack all grayscale markers into a single array along a new first axis\n",
    "final_image = np.stack(gray_markers, axis=0)\n",
    "imwrite(\"grey_maxes_h17_6226.tif\", final_image)\n"
   ]
  }
 ],
 "metadata": {
  "kernelspec": {
   "display_name": "anotherone",
   "language": "python",
   "name": "python3"
  },
  "language_info": {
   "codemirror_mode": {
    "name": "ipython",
    "version": 3
   },
   "file_extension": ".py",
   "mimetype": "text/x-python",
   "name": "python",
   "nbconvert_exporter": "python",
   "pygments_lexer": "ipython3",
   "version": "3.8.0"
  },
  "orig_nbformat": 4
 },
 "nbformat": 4,
 "nbformat_minor": 2
}
